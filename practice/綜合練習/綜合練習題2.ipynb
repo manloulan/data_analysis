{
 "cells": [
  {
   "cell_type": "markdown",
   "id": "46ea1f7d",
   "metadata": {},
   "source": [
    "## 購物清單\n",
    "- 設計一個程式，讓你可以與他做互動，每次輸入購買物品前先顯示當前可購買物品，購買完成後可輸入 \"exit\" 離開程式，最終統計當前購買的內容與價格，如果輸入不符合規範請讓他重新輸入\n",
    "```\n",
    "範例互動：\n",
    "\n",
    "牛奶25元 餅乾20元 蘋果30元 汽水30元 糖果20元\n",
    "請輸入您要購買的東西(exit離開): 牛奶\n",
    "牛奶25元 餅乾20元 蘋果30元 汽水30元 糖果20元\n",
    "請輸入您要購買的東西:餅乾\n",
    "牛奶25元 餅乾20元 蘋果30元 汽水30元 糖果20元\n",
    "請輸入您要購買的東西:糖果\n",
    "牛奶25元 餅乾20元 蘋果30元 汽水30元 糖果20元\n",
    "請輸入您要購買的東西:exit\n",
    "總共花費:65元\n",
    "```\n",
    "- 需要寫一個function來計算花費，其中傳入的引數必須是兩個 dictionary，一個紀錄了商品與價格，另一個紀錄了商品與數量"
   ]
  },
  {
   "cell_type": "code",
   "execution_count": 9,
   "id": "0fa7d2cc-6da4-4f70-9aa2-b6e261881511",
   "metadata": {},
   "outputs": [
    {
     "name": "stdin",
     "output_type": "stream",
     "text": [
      " su.6s93\n",
      "牛奶 牛奶\n"
     ]
    },
    {
     "name": "stdout",
     "output_type": "stream",
     "text": [
      "('su.6s93', '牛奶')\n"
     ]
    }
   ],
   "source": [
    "buying = \"牛奶\"\n",
    "i_want = (str(input()),input(buying))\n",
    "print(i_want)\n",
    "\n",
    "    "
   ]
  },
  {
   "cell_type": "code",
   "execution_count": null,
   "id": "71ddcb8d",
   "metadata": {},
   "outputs": [],
   "source": [
    "def checkout(item_price, item_amount):\n",
    "    pass"
   ]
  },
  {
   "cell_type": "markdown",
   "id": "801e3d50",
   "metadata": {},
   "source": [
    "## 購物清單\n",
    "- 設計一個程式，讓你可以與他做互動，每次你可以輸入指令選擇當前互動功能\n",
    "    1. 新增商品\n",
    "    2. 購買商品\n",
    "    3. 結帳\n",
    "- 每次選擇互動的功能前會顯示可操作的項目\n",
    "- 選擇新增商品後會需要輸入一組字串 例如 \"雞塊 50\"，輸入完成後就可以去購買商品之中看到並且購買了\n",
    "- 選擇購買商品後會顯示當前可購買商品\n",
    "- 結帳功能如上\n",
    "```\n",
    "範例互動：\n",
    "選擇功能: 1. 新增商品 2. 購買商品 3. 結帳\n",
    "2\n",
    "牛奶25元 餅乾20元 蘋果30元 汽水30元 糖果20元\n",
    "請輸入您要購買的東西(exit離開): 牛奶\n",
    "選擇功能: 1. 新增商品 2. 購買商品 3. 結帳\n",
    "1\n",
    "輸入新增的商品:雞塊 50\n",
    "選擇功能: 1. 新增商品 2. 購買商品 3. 結帳\n",
    "2\n",
    "牛奶25元 餅乾20元 蘋果30元 汽水30元 糖果20元 雞塊50元\n",
    "請輸入您要購買的東西:雞塊\n",
    "選擇功能: 1. 新增商品 2. 購買商品 3. 結帳\n",
    "3\n",
    "總共花費:75元\n",
    "```"
   ]
  },
  {
   "cell_type": "code",
   "execution_count": null,
   "id": "b2aad355",
   "metadata": {},
   "outputs": [
    {
     "name": "stdin",
     "output_type": "stream",
     "text": [
      "功能選項:{1: '新增商品', 2: '購買商品', 3: '結帳'}\n",
      " 2\n",
      "商品有:{'牛奶': '25元', '餅乾': '20元', '蘋果': '30元', '汽水': '30元', '糖果': '20元'}\n",
      " 牛奶\n",
      "商品有:{'牛奶': '25元', '餅乾': '20元', '蘋果': '30元', '汽水': '30元', '糖果': '20元'}\n",
      " 餅乾\n",
      "商品有:{'牛奶': '25元', '餅乾': '20元', '蘋果': '30元', '汽水': '30元', '糖果': '20元'}\n",
      " end\n",
      "功能選項:{1: '新增商品', 2: '購買商品', 3: '結帳'}\n",
      " 3\n"
     ]
    },
    {
     "name": "stdout",
     "output_type": "stream",
     "text": [
      "45\n"
     ]
    }
   ],
   "source": [
    "products = {\"牛奶\":\"25元\" , \"餅乾\":\"20元\" , \"蘋果\":\"30元\" , \"汽水\":\"30元\" , \"糖果\":\"20元\"}\n",
    "\n",
    "function_select = {1:\"新增商品\",2:\"購買商品\",3:\"結帳\"}\n",
    "while True:\n",
    "    chose_function_select = (f\"功能選項:{function_select}\\n\")\n",
    "    i_chose = int(input(chose_function_select))#忘了加int就一直輪迴因為input是輸出str不是int\n",
    "    if i_chose == 1 :\n",
    "        i_want_add = str(input(\"想新增什麼選項\"))\n",
    "        if i_want_add in products:\n",
    "            print(\"已有此項產品\")\n",
    "        else:\n",
    "            i_want_add_price = str(input(\"多少元\"))\n",
    "            products[i_want_add] = i_want_add_price     \n",
    "            #以為要加continue這裡才會回到 i_chose  \n",
    "\n",
    "    elif i_chose == 2:\n",
    "        all_pay = 0\n",
    "        while True:\n",
    "            \n",
    "            buing = (f\"商品有:{products}\\n\") #沒有\\n\n",
    "            i_want = str(input(buing))\n",
    "            if i_want == \"end\":\n",
    "                break\n",
    "            elif i_want in products:\n",
    "                price = products[i_want]#dic[]跟dic.get()容易搞混\n",
    "                price = price[:-1]\n",
    "                all_pay += int(price)\n",
    "            else:\n",
    "                print(\"商品不存在，请重新输入。\")\n",
    "    else:\n",
    "        print(all_pay)"
   ]
  },
  {
   "cell_type": "code",
   "execution_count": 12,
   "id": "f9df4b37-69fb-4554-a0c1-b045f83b6aae",
   "metadata": {},
   "outputs": [
    {
     "name": "stdout",
     "output_type": "stream",
     "text": [
      "20元 <class 'str'>\n"
     ]
    }
   ],
   "source": [
    "products = {\"牛奶\":\"25元\" , \"餅乾\":\"20元\" , \"蘋果\":\"30元\" , \"汽水\":\"30元\" , \"糖果\":\"20元\"}\n",
    "print(products[\"餅乾\"],type(products[\"餅乾\"]))"
   ]
  },
  {
   "cell_type": "markdown",
   "id": "5d6acc14",
   "metadata": {},
   "source": [
    "# 購物清單\n",
    "- 設計一個程式，讓你可以與他做互動，每次你可以輸入指令選擇當前互動功能\n",
    "    1. 新增商品\n",
    "    2. 購買商品\n",
    "    3. 結帳\n",
    "- 開始與程式互動前會需要先讀取 item.txt 這個檔案，將裡面的商品導入到你的程式之中\n",
    "```\n",
    "範例檔案：\n",
    "牛奶：25元\n",
    "麵包：15元\n",
    "雞蛋：5元\n",
    "蘋果：10元\n",
    "雞肉：30元\n",
    "```\n",
    "- 新增讀取檔案的功能"
   ]
  },
  {
   "cell_type": "code",
   "execution_count": 3,
   "id": "da8bd5af",
   "metadata": {},
   "outputs": [
    {
     "name": "stdout",
     "output_type": "stream",
     "text": [
      "['牛奶', '25元']\n"
     ]
    }
   ],
   "source": [
    "items = \"牛奶：25元\"\n",
    "\n",
    "items = items.split(\"：\")\n",
    "print(items)"
   ]
  },
  {
   "cell_type": "markdown",
   "id": "79925ec2",
   "metadata": {},
   "source": [
    "## 購物清單\n",
    "- 設計一個程式，讓你可以與他做互動，每次你可以輸入指令選擇當前互動功能\n",
    "    1. 新增商品\n",
    "    2. 購買商品\n",
    "    3. 結帳\n",
    "- 所有功能如上\n",
    "- 提供一個折扣功能，全館相同商品買二送一\n",
    "```\n",
    "範例互動：\n",
    "選擇功能: 1. 新增商品 2. 購買商品 3. 結帳\n",
    "2\n",
    "牛奶25元 餅乾20元 蘋果30元 汽水30元 糖果20元\n",
    "請輸入您要購買的東西(exit離開): 牛奶\n",
    "選擇功能: 1. 新增商品 2. 購買商品 3. 結帳\n",
    "2\n",
    "牛奶25元 餅乾20元 蘋果30元 汽水30元 糖果20元\n",
    "請輸入您要購買的東西(exit離開): 牛奶\n",
    "選擇功能: 1. 新增商品 2. 購買商品 3. 結帳\n",
    "2\n",
    "牛奶25元 餅乾20元 蘋果30元 汽水30元 糖果20元\n",
    "請輸入您要購買的東西(exit離開): 牛奶\n",
    "選擇功能: 1. 新增商品 2. 購買商品 3. 結帳\n",
    "1\n",
    "輸入新增的商品:雞塊 50\n",
    "選擇功能: 1. 新增商品 2. 購買商品 3. 結帳\n",
    "2\n",
    "牛奶25元 餅乾20元 蘋果30元 汽水30元 糖果20元 雞塊50元\n",
    "請輸入您要購買的東西:雞塊\n",
    "選擇功能: 1. 新增商品 2. 購買商品 3. 結帳\n",
    "3\n",
    "總共花費:100元(折扣25元)\n",
    "```"
   ]
  },
  {
   "cell_type": "code",
   "execution_count": 3,
   "id": "5367d669",
   "metadata": {},
   "outputs": [
    {
     "name": "stdout",
     "output_type": "stream",
     "text": [
      "{'牛奶': 2}\n"
     ]
    }
   ],
   "source": [
    "count = {'牛奶': 1}\n",
    "i_want = \"牛奶\" #要如何寫terminal才會回購買：牛奶  而不是只回牛奶\n",
    "add_count = count.get(i_want)\n",
    "if add_count == None:\n",
    "    add_count = 0\n",
    "    count[i_want] = int(add_count)+1\n",
    "else:\n",
    "    count[i_want] = int(add_count)+1\n",
    "print(count)"
   ]
  },
  {
   "cell_type": "markdown",
   "id": "15a5ac02",
   "metadata": {},
   "source": [
    "## 批次結帳\n",
    "- 提供一個儲存顧客的消費記錄的資料夾，其中含有不同人的購買紀錄，請計算每個人的所需金額\n",
    "- 每個檔案的檔名就是該為顧客的名稱\n",
    "- 商品的價格使用前一題所提供的 items_price\n",
    "```\n",
    "範例檔案\n",
    "Alice.txt\n",
    "牛奶:2\n",
    "雞蛋:10\n",
    "雞肉:5\n",
    "\n",
    "範例輸出\n",
    "Alice購買了250元\n",
    "```"
   ]
  },
  {
   "cell_type": "code",
   "execution_count": 8,
   "id": "a8729ebf",
   "metadata": {},
   "outputs": [
    {
     "name": "stdout",
     "output_type": "stream",
     "text": [
      "['This', 'is', 'a', 'sample sentence.']\n",
      "['This', 'is', 'a', 'sample', 'sentence.']\n",
      "['This', 'is', 'a', 'sample', 'sentence.']\n"
     ]
    }
   ],
   "source": [
    "sentence = \"This is a sample sentence.\"\n",
    "limited_parts = sentence.split(\" \", 3)\n",
    "print(limited_parts)\n",
    "words = sentence.split()\n",
    "print(words)\n",
    "sentence = \"This,is,a,sample,sentence.\"\n",
    "words = sentence.split(\",\")\n",
    "print(words)"
   ]
  },
  {
   "cell_type": "code",
   "execution_count": 12,
   "id": "550cac8e-8f81-4102-b15e-a000f6ab250e",
   "metadata": {},
   "outputs": [
    {
     "name": "stdout",
     "output_type": "stream",
     "text": [
      "3210123\n"
     ]
    }
   ],
   "source": [
    "str = \"000003210123000\"\n",
    "str = str.strip('0')\n",
    "print(str)"
   ]
  },
  {
   "cell_type": "code",
   "execution_count": 13,
   "id": "ce236e87-5373-4594-b944-3fa55d7ea6cc",
   "metadata": {},
   "outputs": [
    {
     "name": "stdout",
     "output_type": "stream",
     "text": [
      "hello world\n",
      "hello world2\n"
     ]
    }
   ],
   "source": [
    "print(\"hello world\")\n",
    "print(\"hello world2\")"
   ]
  },
  {
   "cell_type": "code",
   "execution_count": 17,
   "id": "d64c475a-8aa3-4673-aa51-a744e763cd80",
   "metadata": {},
   "outputs": [
    {
     "name": "stdin",
     "output_type": "stream",
     "text": [
      "想新增什麼選項 餅乾\n"
     ]
    },
    {
     "data": {
      "text/plain": [
       "'已有此項產品'"
      ]
     },
     "execution_count": 17,
     "metadata": {},
     "output_type": "execute_result"
    }
   ],
   "source": [
    "def function_select_1(products):\n",
    "        i_want_add = input(\"想新增什麼選項\")\n",
    "        if i_want_add in products:\n",
    "            return(\"已有此項產品\")\n",
    "        else:\n",
    "            i_want_add_price = input(\"多少元\")\n",
    "            products[i_want_add] = i_want_add_price  \n",
    "\n",
    "\n",
    "products = {\"牛奶\":\"25元\" , \"餅乾\":\"20元\" , \"蘋果\":\"30元\" , \"汽水\":\"30元\" , \"糖果\":\"20元\"}\n",
    "function_select_1(products)\n"
   ]
  },
  {
   "cell_type": "code",
   "execution_count": 24,
   "id": "f19629c2-4c2b-4a49-9cd2-6c521e53ba7f",
   "metadata": {},
   "outputs": [
    {
     "name": "stdout",
     "output_type": "stream",
     "text": [
      "999\n"
     ]
    }
   ],
   "source": [
    "a = 999\n",
    "\n",
    "def function1():\n",
    "    print(a)\n",
    "\n",
    "function1()"
   ]
  },
  {
   "cell_type": "code",
   "execution_count": 25,
   "id": "be301f68-2a5f-4149-8b76-42464e6b531b",
   "metadata": {},
   "outputs": [
    {
     "name": "stdout",
     "output_type": "stream",
     "text": [
      "1\n",
      "2\n"
     ]
    }
   ],
   "source": [
    "a = 1         # 定義全域變數 a 等於 1\n",
    "def hello():  # 定義 hello 函式\n",
    "  global a    # 聲明下方的 a 為全域變數 a\n",
    "  a = 2       # 修改 a 為 2\n",
    "\n",
    "print(a)      # 1\n",
    "hello()       # 執行 hello 函式\n",
    "print(a)      # 2 ( 全域變數 a 被修改為 2 )"
   ]
  },
  {
   "cell_type": "code",
   "execution_count": null,
   "id": "613fef56-f15f-423d-98f0-a7c571ee836c",
   "metadata": {},
   "outputs": [],
   "source": [
    "def buy_two_get_one_for_free_items(buy_two_get_one_for_free_account,buy_two_get_one_for_free_name,count,one_for_free,price):\n",
    "    count_num =  buy_two_get_one_for_free_account // 3 \n",
    "    buy_two_get_one_for_free_account -= count_num\n",
    "    count[buy_two_get_one_for_free_name] = buy_two_get_one_for_free_account\n",
    "    add_one_for_free = one_for_free.get(buy_two_get_one_for_free_name)\n",
    "    if add_one_for_free == None:\n",
    "        add_one_for_free = 0\n",
    "        one_for_free[buy_two_get_one_for_free_name] = int(add_one_for_free)+1\n",
    "        price_one_for_free = one_for_free.get(buy_two_get_one_for_free_name)\n",
    "        price_one_for_free = int(price_one_for_free)\n",
    "        price_one_for_free *= price\n",
    "    else:\n",
    "        one_for_free[buy_two_get_one_for_free_name] = int(add_one_for_free)+1\n",
    "        price_one_for_free = one_for_free.get(buy_two_get_one_for_free_name)\n",
    "        price_one_for_free = int(price_one_for_free)\n",
    "        price_one_for_free *= price"
   ]
  }
 ],
 "metadata": {
  "kernelspec": {
   "display_name": "Python 3 (ipykernel)",
   "language": "python",
   "name": "python3"
  },
  "language_info": {
   "codemirror_mode": {
    "name": "ipython",
    "version": 3
   },
   "file_extension": ".py",
   "mimetype": "text/x-python",
   "name": "python",
   "nbconvert_exporter": "python",
   "pygments_lexer": "ipython3",
   "version": "3.10.10"
  }
 },
 "nbformat": 4,
 "nbformat_minor": 5
}
