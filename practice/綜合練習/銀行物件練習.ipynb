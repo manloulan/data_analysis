{
 "cells": [
  {
   "cell_type": "code",
   "execution_count": 14,
   "id": "c911c805-058a-4df3-9841-bd2cba267f40",
   "metadata": {},
   "outputs": [
    {
     "name": "stdin",
     "output_type": "stream",
     "text": [
      "輸入帳號: 00001\n",
      "輸入密碼: 12345\n",
      "輸入指令： 1 存錢, 2 取錢, 3 查看當前餘額, 4 更改密碼, 5 匯款 ,6 離開 4\n",
      "請輸入變更密碼： 1111\n"
     ]
    },
    {
     "name": "stdout",
     "output_type": "stream",
     "text": [
      "密码更改成功。\n"
     ]
    },
    {
     "name": "stdin",
     "output_type": "stream",
     "text": [
      "请再次输入新密码以进行验证： 1111\n"
     ]
    },
    {
     "name": "stdout",
     "output_type": "stream",
     "text": [
      "第1驗證失敗，請重新輸入。\n"
     ]
    },
    {
     "name": "stdin",
     "output_type": "stream",
     "text": [
      "輸入指令： 1 存錢, 2 取錢, 3 查看當前餘額, 4 更改密碼, 5 匯款 ,6 離開 4\n",
      "請輸入變更密碼： 1234\n"
     ]
    },
    {
     "name": "stdout",
     "output_type": "stream",
     "text": [
      "密码更改成功。\n"
     ]
    },
    {
     "name": "stdin",
     "output_type": "stream",
     "text": [
      "请再次输入新密码以进行验证： 1234\n"
     ]
    },
    {
     "name": "stdout",
     "output_type": "stream",
     "text": [
      "第1驗證失敗，請重新輸入。\n"
     ]
    },
    {
     "name": "stdin",
     "output_type": "stream",
     "text": [
      "輸入指令： 1 存錢, 2 取錢, 3 查看當前餘額, 4 更改密碼, 5 匯款 ,6 離開 6\n"
     ]
    }
   ],
   "source": [
    "#上次上課\n",
    "\n",
    "class Account: #在 Account 類別的建構子 (__init__) 中，logs 參數預設值應該設為 None，而不是空列表 []。這樣可以避免所有實例共享相同的列表。\n",
    "    def __init__(self,username,card_no,password,balance,logs = []):  #username,card_no,password,balance,logs為屬性\n",
    "        self.username = username #使用者姓名\n",
    "        self.card_no = card_no  #帳號\n",
    "        self.password = password #密碼\n",
    "        self.balance = balance  #餘額\n",
    "        self.logs = logs         #操作記錄\n",
    "    def deposit(self,money):  #存錢   #方法\n",
    "        self.balance += money\n",
    "        self.logs.append(\"\")             #************沒問過??????????\n",
    "        print(f\"存入{self.card_no}的帳號,餘額為{self.balance}.\")\n",
    "    def withdrawal(self,money):   #方法\n",
    "        username2 = str(input(\"匯出帳號:\"))\n",
    "        if self.balance - money >= 0:\n",
    "            print(f\"取出{self.card_no}的帳號,請出餘額為{self.balance}.\")\n",
    "            account2 = dict_account.get(username2)\n",
    "            account2.deposit(money)\n",
    "        else:\n",
    "            print(\"帳戶餘額不足\")\n",
    "    def display(self): #查看當前餘額   #方法\n",
    "        print(f\"使用者姓名{self.username},當前餘額為{self.balance}.\")\n",
    "    def password_valid(self, password)->bool:   #方法\n",
    "        return self.password == password\n",
    "    def password_change(self, new_password):   #方法\n",
    "        count = 0\n",
    "        confirmed_password = input(\"请再次输入新密码以进行验证：\")\n",
    "        #if self.password == confirmed_password:#問為什麼這樣不對 原因是文麼\n",
    "        # self.password = confirmed_password這樣寫後就可以對原本的預設值做更改\n",
    "        if new_password == confirmed_password:\n",
    "            print(\"驗證成功\")\n",
    "        else:\n",
    "            count += 1\n",
    "            print(f\"第{count}驗證失敗，請重新輸入。\")\n",
    "        \n",
    "    # def password_change(self, new_password):  ******這個部分要問\n",
    "    #     self.password.update(new_password)\n",
    "    #     print(\"密码更改成功。\")\n",
    "\n",
    "dict_account = {\"00001\": Account(\"小明\",\"00001\",\"12345\",10000) , \"00002\": Account(\"小華\",\"00002\",\"54321\",100)}\n",
    "username = str(input(\"輸入帳號:\"))\n",
    "account = dict_account.get(username)\n",
    "password = str(input(\"輸入密碼:\"))\n",
    "while True:     \n",
    "    if account.password_valid(password):\n",
    "        command = int(input(\"輸入指令： 1 存錢, 2 取錢, 3 查看當前餘額, 4 更改密碼, 5 匯款 ,6 離開\"))\n",
    "        if command == 1:\n",
    "            money = int(input(\"輸入存入金額:\"))\n",
    "            account.deposit(money)\n",
    "        elif command == 2:\n",
    "            money = int(input(\"輸入取出金額:\"))\n",
    "            account.withdrawal(money)\n",
    "        elif command == 3:\n",
    "            account.display()\n",
    "        elif command == 4: #狀態機 #******更改密碼的部分如果更改成功dict_account中的資料會跟著更動嗎？ 2.如何把def跟elif的資料做整合因為感覺是重複動作\n",
    "            new_password = str(input(\"請輸入變更密碼：\"))\n",
    "            print(\"密码更改成功。\")\n",
    "            dict_account[account] = new_password\n",
    "            account.password_change(new_password)\n",
    "        elif command == 5:      ##已調整完等待驗證       \n",
    "            account.withdrawal(money)\n",
    "        elif command == 6:\n",
    "            break\n",
    "        else:\n",
    "            print(\"沒有此選項，請重新輸入\")\n",
    "\n",
    "# account1 = {\"12345\":(12345,1000)}\n",
    "# card_num = account1\n",
    "# dict_account.update(account1)\n",
    "# account2 = {\"1234\":(1234,3000)}\n",
    "# dict_account.update(account2)\n",
    "\n",
    "# name = str(input(\"請輸入使用者帳號.\"))\n",
    "\n",
    "# name_password = dict_account.get(name)\n",
    "# if name_password is not None:\n",
    "#     password_appoint = name_password[0]\n",
    "#     if password(name , password_appoint):    #\"1234\",1234\n",
    "#         card_number = input(\"輸入帳號\")\n",
    "#         current_account = dict_account.get(card_number)\n",
    "#         if card_number == self.card_no:\n",
    "#             while True:\n",
    "#                 command = int(input(\"輸入指令： 1 存錢, 2 取錢, 3 查看當前餘額,4 離開\"))\n",
    "#                 if command == 1:\n",
    "#                     money = int(input(\"輸入存入金額:\"))\n",
    "#                     current_account.deposit(money)\n",
    "#                 elif command == 2:\n",
    "#                     money = int(input(\"輸入取出金額:\"))\n",
    "#                     current_account.withdrawal(money)\n",
    "#                 elif command == 3:\n",
    "#                     print(current_account.display)\n",
    "#                 elif command == 4:\n",
    "#                     break\n",
    "#                 else:\n",
    "#                     print(\"沒有此選項，請重新輸入\")    \n",
    "#     card() #為什麼會是放這裡 我原本放在最後面\n",
    "# else:\n",
    "#     print(\"找不到小明的账户\")\n",
    "    \n",
    "\n",
    "              "
   ]
  },
  {
   "cell_type": "code",
   "execution_count": 20,
   "id": "95c470b5-928b-4f82-a165-2dc8049af43d",
   "metadata": {},
   "outputs": [
    {
     "name": "stdout",
     "output_type": "stream",
     "text": [
      "{'小明': (12345, 1000)}\n",
      "dict_values([(12345, 1000)])\n"
     ]
    },
    {
     "name": "stdin",
     "output_type": "stream",
     "text": [
      " 小明\n"
     ]
    },
    {
     "name": "stdout",
     "output_type": "stream",
     "text": [
      "1000\n"
     ]
    }
   ],
   "source": [
    "dict_account = {}\n",
    "account1 = {\"小明\":(12345,1000)}\n",
    "dict_account.update(account1)\n",
    "print(dict_account)\n",
    "print(dict_account.values())\n",
    "\n",
    "xiaoming_balance = dict_account.get(\"小明\")\n",
    "# 检查小明的账户是否存在\n",
    "if xiaoming_balance is not None:\n",
    "    # 提取余额值\n",
    "    balance = xiaoming_balance[1]\n",
    "    print(balance)\n",
    "else:\n",
    "    print(\"找不到小明的账户\")"
   ]
  },
  {
   "cell_type": "code",
   "execution_count": 24,
   "id": "6fd8b7d5-5d4c-4d33-b719-675729333433",
   "metadata": {},
   "outputs": [
    {
     "name": "stdin",
     "output_type": "stream",
     "text": [
      "輸入使用者姓名: 小明\n"
     ]
    },
    {
     "ename": "NameError",
     "evalue": "name 'password' is not defined",
     "output_type": "error",
     "traceback": [
      "\u001b[0;31m---------------------------------------------------------------------------\u001b[0m",
      "\u001b[0;31mNameError\u001b[0m                                 Traceback (most recent call last)",
      "Cell \u001b[0;32mIn[24], line 50\u001b[0m\n\u001b[1;32m     48\u001b[0m \u001b[38;5;28;01mif\u001b[39;00m account \u001b[38;5;129;01mis\u001b[39;00m \u001b[38;5;129;01mnot\u001b[39;00m \u001b[38;5;28;01mNone\u001b[39;00m:\n\u001b[1;32m     49\u001b[0m     password_appoint \u001b[38;5;241m=\u001b[39m account\u001b[38;5;241m.\u001b[39mpassword\n\u001b[0;32m---> 50\u001b[0m     \u001b[38;5;28mprint\u001b[39m(\u001b[43mpassword\u001b[49m(account, password_appoint))\n\u001b[1;32m     51\u001b[0m     card(account)\n\u001b[1;32m     52\u001b[0m \u001b[38;5;28;01melse\u001b[39;00m:\n",
      "\u001b[0;31mNameError\u001b[0m: name 'password' is not defined"
     ]
    }
   ],
   "source": [
    "class Account:\n",
    "    def __init__(self, username, card_no, password, balance, logs=[]):\n",
    "        self.username = username\n",
    "        self.card_no = card_no\n",
    "        self.password = password\n",
    "        self.balance = balance\n",
    "        self.logs = []\n",
    "\n",
    "    def deposit(self, money):\n",
    "        self.balance += money\n",
    "        print(f\"存入{self.card_no}的帳號,餘額為{self.balance}.\")\n",
    "\n",
    "    def withdrawal(self, money):\n",
    "        self.balance -= money\n",
    "        print(f\"取出{self.card_no}的帳號,請出餘額為{self.balance}.\")\n",
    "\n",
    "    def display(self):\n",
    "        print(f\"使用者姓名{self.username},當前餘額為{self.balance}.\")\n",
    "\n",
    "\n",
    "def card(account):\n",
    "    while True:\n",
    "        command = int(input(\"輸入指令： 1 存錢, 2 取錢, 3 查看當前餘額, 4 離開\"))\n",
    "        if command == 1:\n",
    "            money = int(input(\"輸入存入金額:\"))\n",
    "            account.deposit(money)\n",
    "        elif command == 2:\n",
    "            money = int(input(\"輸入取出金額:\"))\n",
    "            account.withdrawal(money)\n",
    "        elif command == 3:\n",
    "            account.display()\n",
    "        elif command == 4:\n",
    "            break\n",
    "        else:\n",
    "            print(\"沒有此選項，請重新輸入\")\n",
    "\n",
    "\n",
    "dict_account = {}\n",
    "account1 = Account(\"小明\", 12345, \"password1\", 1000)\n",
    "dict_account[account1.username] = account1\n",
    "\n",
    "account2 = Account(\"小華\", 1234, \"password2\", 3000)\n",
    "dict_account[account2.username] = account2\n",
    "\n",
    "name = input(\"輸入使用者姓名:\")\n",
    "account = dict_account.get(name)\n",
    "\n",
    "if account is not None:\n",
    "    password_appoint = account.password\n",
    "    print(password(account, password_appoint))\n",
    "    card(account)\n",
    "else:\n",
    "    print(\"找不到使用者的帳戶\")\n"
   ]
  },
  {
   "cell_type": "code",
   "execution_count": null,
   "id": "a7769372-7699-45af-93bd-67fcb2f8ee35",
   "metadata": {},
   "outputs": [
    {
     "name": "stdin",
     "output_type": "stream",
     "text": [
      "輸入帳號: 00001\n",
      "輸入密碼: 12345\n"
     ]
    },
    {
     "name": "stdout",
     "output_type": "stream",
     "text": [
      "檢查密碼是否正確\n"
     ]
    },
    {
     "name": "stdin",
     "output_type": "stream",
     "text": [
      "輸入指令： 1 存錢, 2 取錢, 3 查看當前餘額, 4 更改密碼, 5 匯款 ,6 離開 4\n",
      "請輸入變更密碼： 11111\n"
     ]
    },
    {
     "name": "stdout",
     "output_type": "stream",
     "text": [
      "密码更改成功。\n"
     ]
    },
    {
     "name": "stdin",
     "output_type": "stream",
     "text": [
      "请再次输入新密码以进行验证： 11111\n"
     ]
    },
    {
     "name": "stdout",
     "output_type": "stream",
     "text": [
      "驗證成功\n"
     ]
    },
    {
     "name": "stdin",
     "output_type": "stream",
     "text": [
      "輸入密碼: 11111\n"
     ]
    },
    {
     "name": "stdout",
     "output_type": "stream",
     "text": [
      "檢查密碼是否正確\n"
     ]
    }
   ],
   "source": [
    "#12/19\n",
    "\n",
    "class Account: #在 Account 類別的建構子 (__init__) 中，logs 參數預設值應該設為 None，而不是空列表 []。這樣可以避免所有實例共享相同的列表。\n",
    "    def __init__(self,username,card_no,password,balance,logs = []):  #username,card_no,password,balance,logs為屬性\n",
    "        self.username = username #使用者姓名\n",
    "        self.card_no = card_no  #帳號\n",
    "        self.password = password #密碼\n",
    "        self.balance = balance  #餘額\n",
    "        self.logs = logs         #操作記錄\n",
    "    def deposit(self,money):  #存錢   #方法\n",
    "        self.balance += money\n",
    "        self.logs.append(\"\")             #************沒問過??????????\n",
    "        print(f\"存入{self.card_no}的帳號,餘額為{self.balance}.\")\n",
    "    def withdrawal(self,money):   #方法\n",
    "        username2 = str(input(\"匯出帳號:\"))\n",
    "        if self.balance - money >= 0:\n",
    "            print(f\"取出{self.card_no}的帳號,請出餘額為{self.balance}.\")\n",
    "            account2 = dict_account.get(username2)\n",
    "            account2.deposit(money)\n",
    "        else:\n",
    "            print(\"帳戶餘額不足\")\n",
    "    def display(self): #查看當前餘額   #方法\n",
    "        print(f\"使用者姓名{self.username},當前餘額為{self.balance}.\")\n",
    "    def password_valid(self, password)->bool:   #方法\n",
    "        return self.password == password\n",
    "    def password_change(self, new_password):   #方法\n",
    "        count = 0\n",
    "        confirmed_password = input(\"请再次输入新密码以进行验证：\")\n",
    "        #if self.password == confirmed_password:#問為什麼這樣不對 原因是文麼\n",
    "        # self.password = confirmed_password這樣寫後就可以對原本的預設值做更改\n",
    "        if new_password == confirmed_password:\n",
    "            self.password = confirmed_password\n",
    "            print(\"驗證成功\")\n",
    "        else:\n",
    "            count += 1\n",
    "            print(f\"第{count}驗證失敗，請重新輸入。\")\n",
    "        \n",
    "    # def password_change(self, new_password):  ******這個部分要問\n",
    "    #     self.password.update(new_password)\n",
    "    #     print(\"密码更改成功。\")\n",
    "\n",
    "dict_account = {\"00001\": Account(\"小明\",\"00001\",\"12345\",10000) , \"00002\": Account(\"小華\",\"00002\",\"54321\",100)}\n",
    "username = str(input(\"輸入帳號:\"))\n",
    "account = dict_account.get(username)\n",
    "state = 0\n",
    "while True: \n",
    "    if state == 0:\n",
    "        password = str(input(\"輸入密碼:\"))\n",
    "        state = 1\n",
    "    if state == 1:\n",
    "        print(\"檢查密碼是否正確\")\n",
    "        if account.password_valid(password):\n",
    "            state = 2\n",
    "        else:\n",
    "            state = 0\n",
    "    if state == 2:\n",
    "        command = int(input(\"輸入指令： 1 存錢, 2 取錢, 3 查看當前餘額, 4 更改密碼, 5 匯款 ,6 離開\"))\n",
    "        if command == 1:\n",
    "            money = int(input(\"輸入存入金額:\"))\n",
    "            account.deposit(money)\n",
    "        elif command == 2:\n",
    "            money = int(input(\"輸入取出金額:\"))\n",
    "            account.withdrawal(money)\n",
    "        elif command == 3:\n",
    "            account.display()\n",
    "        elif command == 4: #狀態機 #******更改密碼的部分如果更改成功dict_account中的資料會跟著更動嗎？ 2.如何把def跟elif的資料做整合因為感覺是重複動作\n",
    "            new_password = str(input(\"請輸入變更密碼：\"))\n",
    "            print(\"密码更改成功。\")\n",
    "            dict_account[account] = new_password\n",
    "            account.password_change(new_password)\n",
    "            state = 0\n",
    "        elif command == 5:      ##已調整完等待驗證       \n",
    "            account.withdrawal(money)\n",
    "        elif command == 6:\n",
    "            break\n",
    "        else:\n",
    "            print(\"沒有此選項，請重新輸入\")"
   ]
  },
  {
   "cell_type": "code",
   "execution_count": 5,
   "id": "e7af7f8a-8fc2-4d2a-acb1-7978eba0bb0e",
   "metadata": {},
   "outputs": [
    {
     "ename": "TypeError",
     "evalue": "Account.__init__() missing 1 required positional argument: 'balance'",
     "output_type": "error",
     "traceback": [
      "\u001b[0;31m---------------------------------------------------------------------------\u001b[0m",
      "\u001b[0;31mTypeError\u001b[0m                                 Traceback (most recent call last)",
      "Cell \u001b[0;32mIn[5], line 26\u001b[0m\n\u001b[1;32m     22\u001b[0m     \u001b[38;5;28;01mreturn\u001b[39;00m acc\u001b[38;5;241m.\u001b[39mpassword \u001b[38;5;241m==\u001b[39m input_password\n\u001b[1;32m     25\u001b[0m dict_account \u001b[38;5;241m=\u001b[39m {}\n\u001b[0;32m---> 26\u001b[0m account1 \u001b[38;5;241m=\u001b[39m \u001b[43mAccount\u001b[49m\u001b[43m(\u001b[49m\u001b[38;5;124;43m\"\u001b[39;49m\u001b[38;5;124;43m12345\u001b[39;49m\u001b[38;5;124;43m\"\u001b[39;49m\u001b[43m,\u001b[49m\u001b[43m \u001b[49m\u001b[38;5;241;43m12345\u001b[39;49m\u001b[43m,\u001b[49m\u001b[43m \u001b[49m\u001b[38;5;241;43m1000\u001b[39;49m\u001b[43m)\u001b[49m \u001b[38;5;66;03m#順序為帳號 密碼 餘額\u001b[39;00m\n\u001b[1;32m     27\u001b[0m dict_account[account1\u001b[38;5;241m.\u001b[39mcard_no] \u001b[38;5;241m=\u001b[39m account1\n\u001b[1;32m     28\u001b[0m account2 \u001b[38;5;241m=\u001b[39m Account(\u001b[38;5;124m\"\u001b[39m\u001b[38;5;124m1234\u001b[39m\u001b[38;5;124m\"\u001b[39m, \u001b[38;5;241m1234\u001b[39m, \u001b[38;5;241m3000\u001b[39m)\n",
      "\u001b[0;31mTypeError\u001b[0m: Account.__init__() missing 1 required positional argument: 'balance'"
     ]
    }
   ],
   "source": [
    "class Account:\n",
    "    def __init__(self, username, card_no, password, balance, logs=None):\n",
    "        self.username = username\n",
    "        self.card_no = card_no\n",
    "        self.password = password\n",
    "        self.balance = balance\n",
    "        self.logs = logs if logs is not None else []\n",
    "\n",
    "    def deposit(self, money):\n",
    "        self.balance += money\n",
    "        print(f\"存入{self.card_no}的帳號,餘額為{self.balance}.\")\n",
    "\n",
    "    def withdrawal(self, money):\n",
    "        self.balance -= money\n",
    "        print(f\"取出{self.card_no}的帳號,請出餘額為{self.balance}.\")\n",
    "\n",
    "    def display(self):\n",
    "        print(f\"使用者姓名{self.username},當前餘額為{self.balance}.\")\n",
    "\n",
    "\n",
    "def password(acc, input_password):\n",
    "    return acc.password == input_password\n",
    "\n",
    "\n",
    "dict_account = {}\n",
    "account1 = Account(\"12345\", 12345, 1000) #順序為帳號 密碼 餘額\n",
    "dict_account[account1.card_no] = account1\n",
    "account2 = Account(\"1234\", 1234, 3000)\n",
    "dict_account[account2.card_no] = account2\n",
    "\n",
    "name = input(\"請輸入使用者帳號:\")\n",
    "name_password = dict_account.get(name)\n",
    "\n",
    "if name_password is not None:\n",
    "    password_appoint = name_password.password\n",
    "    if password(name_password, input(\"輸入密碼:\")):\n",
    "        card_number = input(\"輸入帳號:\")\n",
    "        current_account = dict_account.get(int(card_number))\n",
    "\n",
    "        while True:\n",
    "            command = int(input(\"輸入指令： 1 存錢, 2 取錢, 3 查看當前餘額, 4 離開\"))\n",
    "            if command == 1:\n",
    "                money = int(input(\"輸入存入金額:\"))\n",
    "                current_account.deposit(money)\n",
    "            elif command == 2:\n",
    "                money = int(input(\"輸入取出金額:\"))\n",
    "                current_account.withdrawal(money)\n",
    "            elif command == 3:\n",
    "                current_account.display()\n",
    "            elif command == 4:\n",
    "                break\n",
    "            else:\n",
    "                print(\"沒有此選項，請重新輸入\")\n",
    "else:\n",
    "    print(\"找不到該帳號\")"
   ]
  },
  {
   "cell_type": "code",
   "execution_count": 54,
   "id": "ad7ec3a2-e633-4d75-b6ee-1310eaf675bd",
   "metadata": {},
   "outputs": [
    {
     "ename": "ModuleNotFoundError",
     "evalue": "No module named 'state_machine'",
     "output_type": "error",
     "traceback": [
      "\u001b[0;31m---------------------------------------------------------------------------\u001b[0m",
      "\u001b[0;31mModuleNotFoundError\u001b[0m                       Traceback (most recent call last)",
      "Cell \u001b[0;32mIn[54], line 1\u001b[0m\n\u001b[0;32m----> 1\u001b[0m \u001b[38;5;28;01mfrom\u001b[39;00m \u001b[38;5;21;01mstate_machine\u001b[39;00m \u001b[38;5;28;01mimport\u001b[39;00m State, Event, acts_as_state_machine, after, before, InvalidStateTransition\n\u001b[1;32m      3\u001b[0m \u001b[38;5;66;03m# 状态机\u001b[39;00m\n\u001b[1;32m      4\u001b[0m \u001b[38;5;129m@acts_as_state_machine\u001b[39m\n\u001b[1;32m      5\u001b[0m \u001b[38;5;28;01mclass\u001b[39;00m \u001b[38;5;21;01mProcess\u001b[39;00m:\n\u001b[1;32m      6\u001b[0m     \u001b[38;5;66;03m# 定义各种状态\u001b[39;00m\n",
      "\u001b[0;31mModuleNotFoundError\u001b[0m: No module named 'state_machine'"
     ]
    }
   ],
   "source": [
    "# https://l1nwatch.gitbook.io/python-design-mode/di-san-bu-fen-hang-wei-xing-mo-shi/di-14-zhang-zhuang-tai-mo-shi\n",
    "#看不懂def以前的資訊\n",
    "from state_machine import State, Event, acts_as_state_machine, after, before, InvalidStateTransition\n",
    "\n",
    "# 状态机\n",
    "@acts_as_state_machine\n",
    "class Process:\n",
    "    # 定义各种状态\n",
    "    created = State(initial=True)    # 指定状态机的初始状态\n",
    "    waiting = State()\n",
    "    running = State()\n",
    "    terminated = State()\n",
    "    blocked = State()\n",
    "    swapped_out_waiting = State()\n",
    "    swapped_out_blocked = State()\n",
    "\n",
    "    # 定义状态转换，每个转换都是一个 Event，使用 from_states 和 to_state 来定义一个可能的转换\n",
    "    wait = Event(from_states=(created, running, blocked,\n",
    "                              swapped_out_waiting), to_state=waiting)\n",
    "    run = Event(from_states=waiting, to_state=running)\n",
    "    terminate = Event(from_states=running, to_state=terminated)\n",
    "    block = Event(from_states=(running, swapped_out_blocked),\n",
    "                  to_state=blocked)\n",
    "    swap_wait = Event(from_states=waiting, to_state=swapped_out_waiting)\n",
    "    swap_block = Event(from_states=blocked, to_state=swapped_out_blocked)\n",
    "\n",
    "    # 进程独有的信息，比如名称\n",
    "    def __init__(self, name):\n",
    "        self.name = name\n",
    "\n",
    "    # 用于在转换之前或之后执行动作\n",
    "    @after('wait')\n",
    "    def wait_info(self):\n",
    "        print('{} entered waiting mode'.format(self.name))\n",
    "\n",
    "    @after('run')\n",
    "    def run_info(self):\n",
    "        print('{} is running'.format(self.name))\n",
    "\n",
    "    @before('terminate')\n",
    "    def terminate_info(self):\n",
    "        print('{} terminated'.format(self.name))\n",
    "\n",
    "    @after('block')\n",
    "    def block_info(self):\n",
    "        print('{} is blocked'.format(self.name))\n",
    "\n",
    "    @after('swap_wait')\n",
    "    def swap_wait_info(self):\n",
    "        print('{} is swapped out and waiting'.format(self.name))\n",
    "\n",
    "    @after('swap_block')\n",
    "    def swap_block_info(self):\n",
    "        print('{} is swapped out and blocked'.format(self.name))\n",
    "\n",
    "# 分别是 Process 实例、Event 实例、事件的名称\n",
    "def transition(process, event, event_name):\n",
    "    try:\n",
    "        event()\n",
    "    except InvalidStateTransition as err:\n",
    "        print('Error: transition of {} from {} to {} failed'.format(process.name,\n",
    "                                                                    process.current_state, event_name))\n",
    "\n",
    "# 展示进程当前(激活)状态的一些基本信息\n",
    "def state_info(process):\n",
    "    print('state of {}: {}'.format(process.name, process.current_state))\n",
    "\n",
    "\n",
    "def main():\n",
    "    RUNNING = 'running'\n",
    "    WAITING = 'waiting'\n",
    "    BLOCKED = 'blocked'\n",
    "    TERMINATED = 'terminated'\n",
    "\n",
    "    p1, p2 = Process('process1'), Process('process2')\n",
    "    [state_info(p) for p in (p1, p2)]\n",
    "\n",
    "    # 不断进行状态转换\n",
    "    print()\n",
    "    transition(p1, p1.wait, WAITING)\n",
    "    transition(p2, p2.terminate, TERMINATED)\n",
    "    [state_info(p) for p in (p1, p2)]\n",
    "\n",
    "    print()\n",
    "    transition(p1, p1.run, RUNNING)\n",
    "    transition(p2, p2.wait, WAITING)\n",
    "    [state_info(p) for p in (p1, p2)]\n",
    "\n",
    "    print()\n",
    "    transition(p2, p2.run, RUNNING)\n",
    "    [state_info(p) for p in (p1, p2)]\n",
    "\n",
    "    print()\n",
    "    [transition(p, p.block, BLOCKED) for p in (p1, p2)]\n",
    "    [state_info(p) for p in (p1, p2)]\n",
    "\n",
    "    print()\n",
    "    [transition(p, p.terminate, TERMINATED) for p in (p1, p2)]\n",
    "    [state_info(p) for p in (p1, p2)]\n",
    "\n",
    "if __name__ == '__main__':\n",
    "    main()"
   ]
  },
  {
   "cell_type": "code",
   "execution_count": 1,
   "id": "8d20465c-da78-4ccd-856c-5915900e8fbd",
   "metadata": {},
   "outputs": [
    {
     "ename": "NameError",
     "evalue": "name 'event_A' is not defined",
     "output_type": "error",
     "traceback": [
      "\u001b[0;31m---------------------------------------------------------------------------\u001b[0m",
      "\u001b[0;31mNameError\u001b[0m                                 Traceback (most recent call last)",
      "Cell \u001b[0;32mIn[1], line 43\u001b[0m\n\u001b[1;32m     40\u001b[0m         \u001b[38;5;28;01mreturn\u001b[39;00m\n\u001b[1;32m     42\u001b[0m \u001b[38;5;66;03m# handlers for events and actions, event_X and action_XX are all specific functions\u001b[39;00m\n\u001b[0;32m---> 43\u001b[0m events_handlers \u001b[38;5;241m=\u001b[39m [\u001b[43mevent_A\u001b[49m, event_B]\n\u001b[1;32m     44\u001b[0m actions_handlers \u001b[38;5;241m=\u001b[39m [[action_AA, action_AB],\n\u001b[1;32m     45\u001b[0m                     [action_BA, action_BB]]\n\u001b[1;32m     47\u001b[0m \u001b[38;5;66;03m# define an instance of StateMachine\u001b[39;00m\n",
      "\u001b[0;31mNameError\u001b[0m: name 'event_A' is not defined"
     ]
    }
   ],
   "source": [
    "#  https://www.gushiciku.cn/pl/ggEz/zh-tw\n",
    "\n",
    "class StateMachine:\n",
    "    def __init__(self, cfg, states, events_handler, actions_handler):\n",
    "        # config information for an instance\n",
    "        self.cfg = cfg\n",
    "        # define the states and the initial state\n",
    "        self.states = [s.lower() for s in states]\n",
    "        self.state = self.states[0]\n",
    "        # process the inputs according to current state\n",
    "        self.events = dict()                                ##dict()等於 dict = {}的意思嗎？ 為什麼是小括號\n",
    "        # actions according to current transfer \n",
    "        self.actions = {state: dict() for state in self.states}\n",
    "        # cached data for temporary use\n",
    "        self.records = dict()\n",
    "        # add events and actions\n",
    "        for i, state in enumerate(self.states):\n",
    "            self._add_event(state, events_handler[i])\n",
    "            for j, n_state in enumerate(self.states):\n",
    "                self._add_action(state, n_state, actions_handler[i][j])\n",
    "\n",
    "    def _add_event(self, state, handler):\n",
    "        self.events[state] = handler\n",
    "\n",
    "    def _add_action(self, cur_state, next_state, handler):\n",
    "        self.actions[cur_state][next_state] = handler\n",
    "\n",
    "    def run(self, inputs):\n",
    "        # decide the state-transfer according to the inputs\n",
    "        new_state, outputs = self.events[self.state](inputs, self.states, self.records, self.cfg)\n",
    "        # do the actions related with the transfer \n",
    "        self.actions[self.state][new_state](outputs, self.records, self.cfg)\n",
    "        # do the state transfer\n",
    "        self.state = new_state\n",
    "        return new_state\n",
    "\n",
    "    def reset(self):\n",
    "        self.state = self.states[0]\n",
    "        self.records = dict()\n",
    "        return\n",
    "\n",
    "# handlers for events and actions, event_X and action_XX are all specific functions\n",
    "events_handlers = [event_A, event_B]\n",
    "actions_handlers = [[action_AA, action_AB],\n",
    "                    [action_BA, action_BB]]\n",
    "\n",
    "# define an instance of StateMachine\n",
    "state_machine = StateMachine(cfg, states, events_handlers, actions_handlers)"
   ]
  },
  {
   "cell_type": "code",
   "execution_count": null,
   "id": "9e04d65d-585d-436a-80e7-6d2cdf96e8be",
   "metadata": {},
   "outputs": [
    {
     "name": "stdin",
     "output_type": "stream",
     "text": [
      "password: 0\n"
     ]
    },
    {
     "name": "stdout",
     "output_type": "stream",
     "text": [
      "檢驗密碼是否正確\n"
     ]
    },
    {
     "name": "stdin",
     "output_type": "stream",
     "text": [
      "password: 1\n"
     ]
    },
    {
     "name": "stdout",
     "output_type": "stream",
     "text": [
      "檢驗密碼是否正確\n"
     ]
    },
    {
     "name": "stdin",
     "output_type": "stream",
     "text": [
      "password: 10\n"
     ]
    },
    {
     "name": "stdout",
     "output_type": "stream",
     "text": [
      "檢驗密碼是否正確\n"
     ]
    },
    {
     "name": "stdin",
     "output_type": "stream",
     "text": [
      "輸入指令: 1存錢 2取錢 3查看餘額 4離開 4\n",
      "輸入指令: 1存錢 2取錢 3查看餘額 4離開 4\n"
     ]
    }
   ],
   "source": [
    "state = 0\n",
    "while True:\n",
    "    if state == 0 :\n",
    "        password = input(\"輸入密碼:\")\n",
    "        state = 1\n",
    "    if state == 1:\n",
    "        print(\"檢查密碼是否正確\")\n",
    "        if password == \"10\":\n",
    "            state = 2\n",
    "        else:\n",
    "            state = 0\n",
    "    if state == 2:\n",
    "        command = input(\"輸入指令: 1存錢 2取錢 3查看餘額 4離開\")\n",
    "        if command == 4:\n",
    "            break"
   ]
  },
  {
   "cell_type": "code",
   "execution_count": null,
   "id": "e6b96e6d-3d49-4d68-a87f-b1add78b99d1",
   "metadata": {},
   "outputs": [],
   "source": [
    "state = 0\n",
    "while True:\n",
    "    if state == 0 :\n",
    "        password = input(\"輸入密碼:\")\n",
    "        state = 1\n",
    "    if state == 1:\n",
    "        print(\"檢查密碼是否正確\")\n",
    "        if password == \"10\":\n",
    "            print(\"密碼正確\")\n",
    "            state = 2\n",
    "        else:\n",
    "            print(\"密碼錯誤：請重新輸入\")\n",
    "            state = 0\n",
    "    if state == 2:\n",
    "        command = input(\"輸入指令: 1存錢 2取錢 3查看餘額 4離開\")\n",
    "        if command == 4:\n",
    "            break"
   ]
  }
 ],
 "metadata": {
  "kernelspec": {
   "display_name": "Python 3 (ipykernel)",
   "language": "python",
   "name": "python3"
  },
  "language_info": {
   "codemirror_mode": {
    "name": "ipython",
    "version": 3
   },
   "file_extension": ".py",
   "mimetype": "text/x-python",
   "name": "python",
   "nbconvert_exporter": "python",
   "pygments_lexer": "ipython3",
   "version": "3.10.10"
  }
 },
 "nbformat": 4,
 "nbformat_minor": 5
}
